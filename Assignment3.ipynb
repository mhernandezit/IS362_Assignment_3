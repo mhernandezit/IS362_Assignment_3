{
 "cells": [
  {
   "cell_type": "markdown",
   "metadata": {},
   "source": [
    "# Week 3 Assignment - Pandas Series\n",
    "\n",
    "We are using pandas to build a series of total miles of a road trip"
   ]
  },
  {
   "cell_type": "code",
   "execution_count": 1,
   "metadata": {},
   "outputs": [
    {
     "name": "stdout",
     "output_type": "stream",
     "text": [
      "0     55\n",
      "1    120\n",
      "2    165\n",
      "3    190\n",
      "4    235\n",
      "dtype: int32\n"
     ]
    }
   ],
   "source": [
    "import pandas as pd\n",
    "import numpy as np\n",
    "\n",
    "rt_array = np.array([55,120,165,190,235])\n",
    "\n",
    "rt_series = pd.Series(rt_array)\n",
    "\n",
    "print(rt_series)"
   ]
  },
  {
   "cell_type": "markdown",
   "metadata": {},
   "source": [
    "Now that we have the data in a series, to find out how much we traveled on a specific day, we just need to subtract the mileage from the previous day.  "
   ]
  },
  {
   "cell_type": "code",
   "execution_count": 2,
   "metadata": {},
   "outputs": [],
   "source": [
    "def getMileage(seriesData, dayIndex):\n",
    "    if dayIndex == 0:\n",
    "        return seriesData[0]\n",
    "    else:\n",
    "        try:\n",
    "            return seriesData[dayIndex] - seriesData[dayIndex - 1]\n",
    "        except IndexError:\n",
    "            print(\"out of range\")\n"
   ]
  },
  {
   "cell_type": "markdown",
   "metadata": {},
   "source": [
    "Now that we have the function created, let's see how far we traveled on day 2:"
   ]
  },
  {
   "cell_type": "code",
   "execution_count": 3,
   "metadata": {},
   "outputs": [
    {
     "data": {
      "text/plain": [
       "45"
      ]
     },
     "execution_count": 3,
     "metadata": {},
     "output_type": "execute_result"
    }
   ],
   "source": [
    "getMileage(rt_series, 2)"
   ]
  },
  {
   "cell_type": "markdown",
   "metadata": {},
   "source": [
    "Voila - a method to take the difference between two series."
   ]
  }
 ],
 "metadata": {
  "kernelspec": {
   "display_name": "Python 3",
   "language": "python",
   "name": "python3"
  },
  "language_info": {
   "codemirror_mode": {
    "name": "ipython",
    "version": 3
   },
   "file_extension": ".py",
   "mimetype": "text/x-python",
   "name": "python",
   "nbconvert_exporter": "python",
   "pygments_lexer": "ipython3",
   "version": "3.7.1"
  }
 },
 "nbformat": 4,
 "nbformat_minor": 2
}
